{
 "cells": [
  {
   "cell_type": "code",
   "execution_count": null,
   "metadata": {},
   "outputs": [],
   "source": [
    "# Dependencies\n",
    "# %matplotlib inline\n",
    "import pandas as pd\n",
    "import numpy as np\n",
    "import matplotlib.pyplot as plt\n",
    "import requests\n",
    "import io\n",
    "import time\n",
    "from datetime import datetime, timedelta, date\n",
    "import json\n",
    "import pprint\n",
    "pp = pprint.PrettyPrinter(indent=4)\n",
    "pd.set_option('display.max_columns', None)"
   ]
  },
  {
   "cell_type": "code",
   "execution_count": null,
   "metadata": {},
   "outputs": [],
   "source": [
    "#this is a timer function to see how long it takes to run the code\n",
    "import time\n",
    "\n",
    "def tic():\n",
    "    \"\"\"\n",
    "    Start the timer.\n",
    "    \"\"\"\n",
    "    global _start_time\n",
    "    _start_time = time.time()\n",
    "\n",
    "def toc():\n",
    "    \"\"\"\n",
    "    Stop the timer and return the elapsed time in seconds.\n",
    "    \"\"\"\n",
    "    if '_start_time' in globals():\n",
    "        elapsed_time = time.time() - _start_time\n",
    "        print(\"Elapsed time: {:.4f} seconds\".format(elapsed_time))\n",
    "        del globals()['_start_time']\n",
    "    else:\n",
    "        print(\"Timer hasn't been started.\")"
   ]
  },
  {
   "cell_type": "code",
   "execution_count": null,
   "metadata": {},
   "outputs": [],
   "source": [
    "acbn = pd.read_excel('all_combined.xlsx')"
   ]
  },
  {
   "cell_type": "code",
   "execution_count": null,
   "metadata": {},
   "outputs": [],
   "source": [
    "# group the DataFrame by four columns and get the record with the most recent date\n",
    "grouped = acbn.groupby(['Country']).agg({'Time': 'max'})\n",
    "grouped\n",
    "# merge the grouped DataFrame with the original DataFrame to get the full rows with the most recent dates\n",
    "#result = pd.merge(grouped, acbn, on=['Level', 'Region', 'Country', 'State/Province', 'Date'], how='left')\n"
   ]
  },
  {
   "cell_type": "code",
   "execution_count": null,
   "metadata": {},
   "outputs": [],
   "source": [
    "grouped.to_csv('latest_time_2.csv')"
   ]
  },
  {
   "cell_type": "code",
   "execution_count": null,
   "metadata": {},
   "outputs": [],
   "source": [
    "acbn_other = acbn[acbn['Level'] != 'State/Province']\n",
    "acbn_other.head()"
   ]
  },
  {
   "cell_type": "code",
   "execution_count": null,
   "metadata": {},
   "outputs": [],
   "source": [
    "tic()\n",
    "acbn_other.to_csv('all_combined_rest.csv')\n",
    "toc()"
   ]
  },
  {
   "cell_type": "code",
   "execution_count": null,
   "metadata": {},
   "outputs": [],
   "source": [
    "cnd_new_cb = pd.read_csv('cnd_new_div7_cb.csv')\n",
    "cnd_new_cb.head()"
   ]
  },
  {
   "cell_type": "code",
   "execution_count": null,
   "metadata": {},
   "outputs": [],
   "source": [
    "blank = pd.concat([acbn_other, cnd_new_cb], ignore_index=True)"
   ]
  },
  {
   "cell_type": "code",
   "execution_count": null,
   "metadata": {},
   "outputs": [],
   "source": [
    "missing_cols1 = acbn_other.columns.difference(cnd_new_cb.columns)\n",
    "missing_cols1"
   ]
  },
  {
   "cell_type": "code",
   "execution_count": null,
   "metadata": {},
   "outputs": [],
   "source": [
    "for col in missing_cols1:\n",
    "    blank[col] = blank[col].fillna(0)"
   ]
  },
  {
   "cell_type": "code",
   "execution_count": null,
   "metadata": {},
   "outputs": [],
   "source": [
    "len(missing_cols1)"
   ]
  },
  {
   "cell_type": "code",
   "execution_count": null,
   "metadata": {},
   "outputs": [],
   "source": [
    "usa_new = pd.read_csv('usa_new_fx_0516.csv')"
   ]
  },
  {
   "cell_type": "code",
   "execution_count": null,
   "metadata": {},
   "outputs": [],
   "source": [
    "blank = pd.concat([blank, usa_new], ignore_index=True)"
   ]
  },
  {
   "cell_type": "code",
   "execution_count": null,
   "metadata": {},
   "outputs": [],
   "source": [
    "missing_cols = blank.columns.difference(usa_new.columns)\n",
    "print(len(missing_cols))"
   ]
  },
  {
   "cell_type": "code",
   "execution_count": null,
   "metadata": {},
   "outputs": [],
   "source": [
    "for col in missing_cols:\n",
    "    blank[col] = blank[col].fillna(0)"
   ]
  },
  {
   "cell_type": "code",
   "execution_count": null,
   "metadata": {},
   "outputs": [],
   "source": [
    "blank[blank[\"State/Province\"]==\"Alberta\"].tail()"
   ]
  },
  {
   "cell_type": "code",
   "execution_count": null,
   "metadata": {},
   "outputs": [],
   "source": [
    "# Convert the \"Time\" column to datetime if it's not already in that format\n",
    "blank['Time'] = pd.to_datetime(blank['Time'])\n",
    "\n",
    "# Filter the dataframe to keep only the dates before May 1st, 2023\n",
    "df_filtered = blank[blank['Time'] < pd.to_datetime('2023-05-01')]"
   ]
  },
  {
   "cell_type": "code",
   "execution_count": null,
   "metadata": {},
   "outputs": [],
   "source": [
    "acbn_other['Time'] = pd.to_datetime(acbn_other['Time'])\n",
    "\n",
    "# Filter the dataframe to keep only the dates before May 1st, 2023\n",
    "acbno_filtered = acbn_other[acbn_other['Time'] < pd.to_datetime('2023-05-01')]"
   ]
  },
  {
   "cell_type": "code",
   "execution_count": null,
   "metadata": {},
   "outputs": [],
   "source": [
    "acbno_filtered.tail()"
   ]
  },
  {
   "cell_type": "code",
   "execution_count": null,
   "metadata": {},
   "outputs": [],
   "source": [
    "tic()\n",
    "acbno_filtered.to_csv('rotw_beforeAPR30.csv', index=False)\n",
    "toc()\n",
    "#our data used about 14 seconds"
   ]
  },
  {
   "cell_type": "code",
   "execution_count": null,
   "metadata": {},
   "outputs": [],
   "source": [
    "tic()\n",
    "df_filtered.to_excel('full_beforeAPR30.xlsx', index=False)\n",
    "toc()\n",
    "#this xlsx file used about 680 seconds, which is about 11 minutes\n",
    "#open an episode of Friends and you should be good to go"
   ]
  },
  {
   "cell_type": "code",
   "execution_count": null,
   "metadata": {},
   "outputs": [],
   "source": [
    "tic()\n",
    "df_filtered.to_csv('full_beforeAPR30.csv', index=False)\n",
    "toc()\n",
    "#this csv file used about 23 seconds"
   ]
  }
 ],
 "metadata": {
  "kernelspec": {
   "display_name": "Python 3",
   "language": "python",
   "name": "python3"
  },
  "language_info": {
   "name": "python",
   "version": "3.10.7"
  },
  "orig_nbformat": 4
 },
 "nbformat": 4,
 "nbformat_minor": 2
}
