{
 "cells": [
  {
   "cell_type": "code",
   "execution_count": null,
   "metadata": {},
   "outputs": [],
   "source": [
    "# Dependencies\n",
    "# %matplotlib inline\n",
    "import pandas as pd\n",
    "import numpy as np\n",
    "import matplotlib.pyplot as plt\n",
    "import requests\n",
    "import io\n",
    "import time\n",
    "from datetime import datetime, timedelta, date\n",
    "import json\n",
    "import pprint\n",
    "pp = pprint.PrettyPrinter(indent=4)\n",
    "pd.set_option('display.max_columns', None)\n",
    "\n"
   ]
  },
  {
   "cell_type": "code",
   "execution_count": null,
   "metadata": {},
   "outputs": [],
   "source": [
    "#diable warnings\n",
    "import warnings\n",
    "warnings.filterwarnings(\"ignore\")"
   ]
  },
  {
   "cell_type": "code",
   "execution_count": null,
   "metadata": {},
   "outputs": [],
   "source": [
    "#Initially, we have a raw input file which is slightly different from the later version\n",
    "#becuz Canada changed its content in reporting\n",
    "#and after Canada changed it, it switched to all dates weekly\n",
    "#however, we hope to keep the granularity of daily\n",
    "#so we extract the columns that are the same in both versions\n",
    "raw_input = pd.read_csv(\"daily_raw_input.csv\")\n",
    "#raw_input.head()"
   ]
  },
  {
   "cell_type": "code",
   "execution_count": null,
   "metadata": {},
   "outputs": [],
   "source": [
    "cnd_raw = raw_input[(raw_input[\"Country\"]==\"Canada\") & (raw_input[\"Level\"]==\"State/Province\")]\n",
    "#cnd_raw.head()"
   ]
  },
  {
   "cell_type": "code",
   "execution_count": null,
   "metadata": {},
   "outputs": [],
   "source": [
    "#import both versions, use selectively\n",
    "cnd_new = pd.read_csv(\"cnd_new_fx_0516.csv\")\n",
    "cnd_new_div7 = pd.read_csv(\"cnd_new_d7_fx_0516.csv\")"
   ]
  },
  {
   "cell_type": "code",
   "execution_count": null,
   "metadata": {},
   "outputs": [],
   "source": [
    "cnd_new_div7.info()"
   ]
  },
  {
   "cell_type": "code",
   "execution_count": null,
   "metadata": {},
   "outputs": [],
   "source": [
    "common_cols = [col for col in cnd_new.columns if col in cnd_raw.columns]\n",
    "print(common_cols)"
   ]
  },
  {
   "cell_type": "code",
   "execution_count": null,
   "metadata": {},
   "outputs": [],
   "source": [
    "# loop through each row of the dataframe\n",
    "for i, row in cnd_new.iterrows():\n",
    "    # check if the Total Tests value is zero\n",
    "    if row['Total Tests'] == 0:\n",
    "        # loop backwards through the previous rows and find the last non-zero Total Tests value\n",
    "        for j in range(i-1, -1, -1):\n",
    "            if cnd_new.at[j, 'Total Tests'] != 0:\n",
    "                # assign the last non-zero value to the current row\n",
    "                cnd_new.at[i, 'Total Tests'] = cnd_new.at[j, 'Total Tests']\n",
    "                break\n"
   ]
  },
  {
   "cell_type": "code",
   "execution_count": null,
   "metadata": {},
   "outputs": [],
   "source": [
    "for i, row in cnd_new_div7.iterrows():\n",
    "    # check if the Total Tests value is zero\n",
    "    if row['Total Tests'] == 0:\n",
    "        # loop backwards through the previous rows and find the last non-zero Total Tests value\n",
    "        for j in range(i-1, -1, -1):\n",
    "            if cnd_new_div7.at[j, 'Total Tests'] != 0:\n",
    "                # assign the last non-zero value to the current row\n",
    "                cnd_new_div7.at[i, 'Total Tests'] = cnd_new_div7.at[j, 'Total Tests']\n",
    "                break"
   ]
  },
  {
   "cell_type": "code",
   "execution_count": null,
   "metadata": {},
   "outputs": [],
   "source": [
    "cnd_new.to_csv(\"cnd_new_rep0.csv\", index=False)\n",
    "cnd_new_div7.to_csv(\"cnd_new_div7_rep0.csv\", index=False)"
   ]
  },
  {
   "cell_type": "code",
   "execution_count": null,
   "metadata": {},
   "outputs": [],
   "source": [
    "#just to see the latest dates, note that our \"date\" column is called Time!\n",
    "cnd_new[cnd_new[\"State/Province\"]==\"Alberta\"].tail(20)"
   ]
  },
  {
   "cell_type": "code",
   "execution_count": null,
   "metadata": {},
   "outputs": [],
   "source": [
    "cnd_new[cnd_new[\"State/Province\"]==\"Alberta\"].to_csv(\"albertatest.csv\", index=False)"
   ]
  },
  {
   "cell_type": "code",
   "execution_count": null,
   "metadata": {},
   "outputs": [],
   "source": [
    "cnd_raw['Time'] = pd.to_datetime(cnd_raw['Time'])\n",
    "cnd_new['Time'] = pd.to_datetime(cnd_new['Time'])\n",
    "cnd_new_div7['Time'] = pd.to_datetime(cnd_new_div7['Time'])\n",
    "\n",
    "#here we cut the new version that have dates exceeding the raw version\n",
    "nnd = cnd_new.loc[cnd_new['Time'] > cnd_raw['Time'].max()]\n",
    "nnd"
   ]
  },
  {
   "cell_type": "code",
   "execution_count": null,
   "metadata": {},
   "outputs": [],
   "source": [
    "n7d = cnd_new_div7.loc[cnd_new_div7['Time'] > cnd_raw['Time'].max()]\n",
    "n7d"
   ]
  },
  {
   "cell_type": "code",
   "execution_count": null,
   "metadata": {},
   "outputs": [],
   "source": [
    "cnd_raw"
   ]
  },
  {
   "cell_type": "code",
   "execution_count": null,
   "metadata": {},
   "outputs": [],
   "source": [
    "rawcom = cnd_raw[common_cols]\n",
    "rawcom"
   ]
  },
  {
   "cell_type": "code",
   "execution_count": null,
   "metadata": {},
   "outputs": [],
   "source": [
    "nndcom = nnd[common_cols]\n",
    "n7dcom = n7d[common_cols]"
   ]
  },
  {
   "attachments": {},
   "cell_type": "markdown",
   "metadata": {},
   "source": [
    "Now we have the common columns from both dataframes, we concatenate them together"
   ]
  },
  {
   "cell_type": "code",
   "execution_count": null,
   "metadata": {},
   "outputs": [],
   "source": [
    "cnd_new_cb = pd.concat([rawcom, nndcom], axis=0)\n",
    "cnd_new_div7_cb = pd.concat([rawcom, n7dcom], axis=0)"
   ]
  },
  {
   "cell_type": "code",
   "execution_count": null,
   "metadata": {},
   "outputs": [],
   "source": [
    "cnd_new_cb.to_csv(\"cnd_new_cb.csv\", index=False)\n",
    "cnd_new_div7_cb.to_csv(\"cnd_new_div7_cb.csv\", index=False)"
   ]
  },
  {
   "cell_type": "code",
   "execution_count": null,
   "metadata": {},
   "outputs": [],
   "source": []
  }
 ],
 "metadata": {
  "kernelspec": {
   "display_name": "Python 3",
   "language": "python",
   "name": "python3"
  },
  "language_info": {
   "name": "python",
   "version": "3.10.7"
  },
  "orig_nbformat": 4
 },
 "nbformat": 4,
 "nbformat_minor": 2
}
